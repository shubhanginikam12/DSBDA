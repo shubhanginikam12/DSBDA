{
 "cells": [
  {
   "cell_type": "code",
   "execution_count": 1,
   "metadata": {
    "id": "nWUzndHdQhxB"
   },
   "outputs": [],
   "source": [
    "import pandas as pd\n",
    "import numpy as np"
   ]
  },
  {
   "cell_type": "code",
   "execution_count": 2,
   "metadata": {
    "id": "gYBLoY4oQyxY"
   },
   "outputs": [],
   "source": [
    "#3.Loading data into dataframe\n",
    "import io\n",
    "df = pd.read_csv(\"D:\\iris.data.csv\") # csv file in dataframe called df\n",
    "#Dataset is now stored in a pandas Dataframe"
   ]
  },
  {
   "cell_type": "code",
   "execution_count": 3,
   "metadata": {
    "colab": {
     "base_uri": "https://localhost:8080/"
    },
    "id": "ECs5uxrMRPvX",
    "outputId": "e78c1d04-738f-4d56-d61a-f341043fdc7d"
   },
   "outputs": [
    {
     "name": "stdout",
     "output_type": "stream",
     "text": [
      "<class 'pandas.core.frame.DataFrame'>\n",
      "RangeIndex: 149 entries, 0 to 148\n",
      "Data columns (total 5 columns):\n",
      " #   Column       Non-Null Count  Dtype  \n",
      "---  ------       --------------  -----  \n",
      " 0   5.1          149 non-null    float64\n",
      " 1   3.5          149 non-null    float64\n",
      " 2   1.4          149 non-null    float64\n",
      " 3   0.2          149 non-null    float64\n",
      " 4   Iris-setosa  149 non-null    object \n",
      "dtypes: float64(4), object(1)\n",
      "memory usage: 5.9+ KB\n"
     ]
    }
   ],
   "source": [
    "#4.1 Information of the data present in dataset\n",
    "df.info()"
   ]
  },
  {
   "cell_type": "code",
   "execution_count": 4,
   "metadata": {
    "colab": {
     "base_uri": "https://localhost:8080/"
    },
    "id": "T3kjVzYARTOn",
    "outputId": "94e1a542-45ca-4177-911c-200caefba45c"
   },
   "outputs": [
    {
     "name": "stdout",
     "output_type": "stream",
     "text": [
      "(149, 5)\n"
     ]
    }
   ],
   "source": [
    "#4.2 Getting the dimensions/shape of the data.\n",
    "#Expect it to be 150 rows and 5 colums.\n",
    "\n",
    "print(df.shape)"
   ]
  },
  {
   "cell_type": "code",
   "execution_count": 5,
   "metadata": {
    "colab": {
     "base_uri": "https://localhost:8080/"
    },
    "id": "_TtvlCMiRZXn",
    "outputId": "9a0c77b0-3ca5-40e7-d067-fe4bab3fa7c9"
   },
   "outputs": [
    {
     "name": "stdout",
     "output_type": "stream",
     "text": [
      "    5.1  3.5  1.4  0.2  Iris-setosa\n",
      "0   4.9  3.0  1.4  0.2  Iris-setosa\n",
      "1   4.7  3.2  1.3  0.2  Iris-setosa\n",
      "2   4.6  3.1  1.5  0.2  Iris-setosa\n",
      "3   5.0  3.6  1.4  0.2  Iris-setosa\n",
      "4   5.4  3.9  1.7  0.4  Iris-setosa\n",
      "5   4.6  3.4  1.4  0.3  Iris-setosa\n",
      "6   5.0  3.4  1.5  0.2  Iris-setosa\n",
      "7   4.4  2.9  1.4  0.2  Iris-setosa\n",
      "8   4.9  3.1  1.5  0.1  Iris-setosa\n",
      "9   5.4  3.7  1.5  0.2  Iris-setosa\n",
      "10  4.8  3.4  1.6  0.2  Iris-setosa\n",
      "11  4.8  3.0  1.4  0.1  Iris-setosa\n",
      "12  4.3  3.0  1.1  0.1  Iris-setosa\n",
      "13  5.8  4.0  1.2  0.2  Iris-setosa\n",
      "14  5.7  4.4  1.5  0.4  Iris-setosa\n",
      "15  5.4  3.9  1.3  0.4  Iris-setosa\n",
      "16  5.1  3.5  1.4  0.3  Iris-setosa\n",
      "17  5.7  3.8  1.7  0.3  Iris-setosa\n",
      "18  5.1  3.8  1.5  0.3  Iris-setosa\n",
      "19  5.4  3.4  1.7  0.2  Iris-setosa\n"
     ]
    }
   ],
   "source": [
    "#5 print the first 20 data points  the head of the dataset\n",
    "print(df.head(20))"
   ]
  },
  {
   "cell_type": "code",
   "execution_count": 6,
   "metadata": {
    "id": "VXvrxuIDRdEP"
   },
   "outputs": [
    {
     "data": {
      "text/plain": [
       "5.1            float64\n",
       "3.5            float64\n",
       "1.4            float64\n",
       "0.2            float64\n",
       "Iris-setosa     object\n",
       "dtype: object"
      ]
     },
     "execution_count": 6,
     "metadata": {},
     "output_type": "execute_result"
    }
   ],
   "source": [
    "#4.4 check the data types in the datframe\n",
    "df.dtypes"
   ]
  },
  {
   "cell_type": "code",
   "execution_count": 7,
   "metadata": {
    "id": "iFhZN4RARgVG"
   },
   "outputs": [],
   "source": [
    "#4.5 use the groupbuy method to determine the class distribution"
   ]
  },
  {
   "cell_type": "code",
   "execution_count": null,
   "metadata": {
    "id": "512GsWDxRnMP"
   },
   "outputs": [],
   "source": [
    "#4.6 Data points count value for each class labels.\n",
    "df.Species.value_counts()"
   ]
  },
  {
   "cell_type": "code",
   "execution_count": null,
   "metadata": {
    "id": "AQToVicDRtgo"
   },
   "outputs": [],
   "source": [
    "#5 Turing categorical variables into quantative variables\n",
    "\n",
    "from sklearn import preprocessing\n",
    "#Label_encoder object knows how to understand word labels\n",
    "\n",
    "label_encoder = preprocessing.LabelEncoder()"
   ]
  },
  {
   "cell_type": "code",
   "execution_count": null,
   "metadata": {
    "id": "mkSffSY6Rzr_"
   },
   "outputs": [],
   "source": [
    "df['Species'].unique()"
   ]
  },
  {
   "cell_type": "code",
   "execution_count": null,
   "metadata": {
    "id": "TO8oT435R00H"
   },
   "outputs": [],
   "source": [
    "df['Species'] = label_encoder.fit_transform(df['Species'])"
   ]
  },
  {
   "cell_type": "code",
   "execution_count": null,
   "metadata": {
    "id": "zzXUmlh2R6RP"
   },
   "outputs": [],
   "source": [
    "df['Species']"
   ]
  }
 ],
 "metadata": {
  "colab": {
   "provenance": []
  },
  "kernelspec": {
   "display_name": "Python 3 (ipykernel)",
   "language": "python",
   "name": "python3"
  },
  "language_info": {
   "codemirror_mode": {
    "name": "ipython",
    "version": 3
   },
   "file_extension": ".py",
   "mimetype": "text/x-python",
   "name": "python",
   "nbconvert_exporter": "python",
   "pygments_lexer": "ipython3",
   "version": "3.9.13"
  }
 },
 "nbformat": 4,
 "nbformat_minor": 1
}
